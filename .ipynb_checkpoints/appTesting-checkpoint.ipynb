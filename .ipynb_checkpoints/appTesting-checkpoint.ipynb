{
 "cells": [
  {
   "cell_type": "code",
   "execution_count": 45,
   "metadata": {},
   "outputs": [],
   "source": [
    "from volunteer import Volunteer\n",
    "from train import Train, Carriage, StationMaster\n",
    "import sqlite3\n",
    "from uuid import uuid4\n",
    "################################################################################\n",
    "\"\"\"\n",
    "It makes sense to have the event class in the main area\n",
    "What we need to do is:\n",
    "-take in how many customers there are\n",
    "-organise a train using the StationMaster that fits everyone\n",
    "-distribute volunteers in the carriages of that train\n",
    "Obviously, we also need to link the volunteers and the carriages in the database.\n",
    "\"\"\"\n",
    "\n",
    "class Event(object):\n",
    "    def __init__(self, customers, date, description=\"\"):\n",
    "        self.id = 'a'+str(uuid4())[:8]\n",
    "        self.customers = customers\n",
    "        self.date = date\n",
    "        self.description = description\n",
    "        self.train = Train(customers)\n",
    "\n",
    "\n",
    "################################################################################\n",
    "\n",
    "\n"
   ]
  },
  {
   "cell_type": "code",
   "execution_count": 46,
   "metadata": {},
   "outputs": [],
   "source": [
    "def createEvent(customers, date, description=\"\"):\n",
    "        e = Event(customers, date, description)\n",
    "        #make some condition so no two events have the same id\n",
    "        \"\"\"\n",
    "        while(True):\n",
    "            try:\n",
    "                query = \"CREATE TABlE IF NOT EXISTS {} (name1 varchar2 Primary Key, name2 varchar2, score numeric)\".format(e.id)\n",
    "                c.execute(query)\n",
    "                break\n",
    "            except sqlite3.OperationalError as error:\n",
    "                print(\"We are here: {}\".format(error))\n",
    "                continue\n",
    "        \"\"\"\n",
    "        print(e.id)\n",
    "        query = \"CREATE TABlE IF NOT EXISTS {} (name1 varchar2 Primary Key, name2 varchar2, score numeric)\".format(e.id)\n",
    "        c.execute(query)\n",
    "        "
   ]
  },
  {
   "cell_type": "code",
   "execution_count": 50,
   "metadata": {},
   "outputs": [
    {
     "name": "stdout",
     "output_type": "stream",
     "text": [
      "a22fef9a1\n"
     ]
    }
   ],
   "source": [
    "if __name__ == '__main__':\n",
    "    #CREATE db\n",
    "    conn = sqlite3.connect('TEST.db')\n",
    "    c = conn.cursor()\n",
    "    c.execute(\"\"\"CREATE TABlE IF NOT EXISTS Tester (\n",
    "    name1 varchar2 Primary Key,\n",
    "    name2 varchar2,\n",
    "    score numeric\n",
    "    )\"\"\")\n",
    "    #c.execute(\"INSERT INTO Tester VALUES ('Sam','Mia', 50000)\")\n",
    "    conn.commit()\n",
    "\n",
    "    #CREATE Sarah and her Carriage sets\n",
    "    sarah = StationMaster()\n",
    "\n",
    "    #CREATE Volunteer Table and addVolunteer method\n",
    "    #CREATE EVENTS TABlE\n",
    "\n",
    "\n",
    "    #INSERT Event details\n",
    "    #CREATE *eventID*Volunteers Table\n",
    "\n",
    "    #1.FOR EVERY Volunteer in *eventID*Volunteers Table\n",
    "    #2. SEND e.description to volunteer.email\n",
    "    createEvent(300, 2018, \"Yeah the bois.\")"
   ]
  },
  {
   "cell_type": "code",
   "execution_count": null,
   "metadata": {},
   "outputs": [],
   "source": []
  }
 ],
 "metadata": {
  "kernelspec": {
   "display_name": "Python 3",
   "language": "python",
   "name": "python3"
  },
  "language_info": {
   "codemirror_mode": {
    "name": "ipython",
    "version": 3
   },
   "file_extension": ".py",
   "mimetype": "text/x-python",
   "name": "python",
   "nbconvert_exporter": "python",
   "pygments_lexer": "ipython3",
   "version": "3.6.5"
  }
 },
 "nbformat": 4,
 "nbformat_minor": 2
}
